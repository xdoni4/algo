{
 "cells": [
  {
   "cell_type": "code",
   "execution_count": 24,
   "metadata": {},
   "outputs": [
    {
     "name": "stdout",
     "output_type": "stream",
     "text": [
      "[0, 2, 4]\n"
     ]
    }
   ],
   "source": [
    "def mk_pifunc(s):\n",
    "    pifunc = [0] * (len(s) + 1)\n",
    "    for i in range(2, len(pifunc)):\n",
    "        k = pifunc[i - 1]\n",
    "        fl = True\n",
    "        while k > 0:\n",
    "            if s[i - 1] == s[k]:\n",
    "                pifunc[i] = k + 1\n",
    "                fl = False\n",
    "                break\n",
    "            k = pifunc[pifunc[i - 1]]\n",
    "        if fl:\n",
    "            if s[i - 1] == s[0]:\n",
    "                pifunc[i] = 1\n",
    "    return pifunc\n",
    "\n",
    "def search(s, sch):\n",
    "    sch_s = sch + '#' + s\n",
    "    pif = mk_pifunc(sch_s)\n",
    "    res = []\n",
    "    for i in range(len(pif)):\n",
    "        if pif[i] == len(sch):\n",
    "            res.append(i - 2 * len(sch) - 1)\n",
    "    return res\n",
    "\n",
    "s = \"abababab\"\n",
    "sch = \"abab\"\n",
    "print(search(s, sch))\n",
    "\n",
    "\n",
    "\n"
   ]
  }
 ],
 "metadata": {
  "kernelspec": {
   "display_name": "Python 3",
   "language": "python",
   "name": "python3"
  },
  "language_info": {
   "codemirror_mode": {
    "name": "ipython",
    "version": 3
   },
   "file_extension": ".py",
   "mimetype": "text/x-python",
   "name": "python",
   "nbconvert_exporter": "python",
   "pygments_lexer": "ipython3",
   "version": "3.9.1"
  }
 },
 "nbformat": 4,
 "nbformat_minor": 4
}
