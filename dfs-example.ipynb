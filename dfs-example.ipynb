{
 "cells": [
  {
   "cell_type": "code",
   "execution_count": 18,
   "metadata": {},
   "outputs": [
    {
     "name": "stdout",
     "output_type": "stream",
     "text": [
      "10\n",
      "9\n",
      "0 1\n",
      "1 2\n",
      "2 3\n",
      "3 4\n",
      "3 5\n",
      "5 6\n",
      "6 7\n",
      "6 8\n",
      "6 9\n",
      "0\n",
      "1\n",
      "2\n",
      "3\n",
      "4\n",
      "5\n",
      "6\n",
      "7\n",
      "8\n",
      "9\n",
      "['./dfs-example/0.png', './dfs-example/01.png', './dfs-example/02.png', './dfs-example/03.png', './dfs-example/04.png', './dfs-example/05.png', './dfs-example/07.png', './dfs-example/08.png', './dfs-example/09.png', './dfs-example/10.png', './dfs-example/11.png', './dfs-example/12.png', './dfs-example/13.png', './dfs-example/14.png', './dfs-example/15.png', './dfs-example/16.png', './dfs-example/17.png', './dfs-example/18.png', './dfs-example/19.png', './dfs-example/20.png', './dfs-example/6.png']\n"
     ]
    }
   ],
   "source": [
    "from graphviz import Graph\n",
    "import glob\n",
    "from PIL import Image\n",
    "\n",
    "step = 0\n",
    "g = []\n",
    "used = []\n",
    "G = Graph(comment = 'DFS example', format='png')\n",
    "def dfs(v):\n",
    "    global step\n",
    "    print(v)\n",
    "    used[v] = 1\n",
    "    G.node(str(v), str(v), style = 'filled', fillcolor='grey')\n",
    "    G.render('dfs-example/' + ('0' if step < 10 else '') + str(step) , view=False)\n",
    "    step += 1\n",
    "    for i in g[v]:\n",
    "        if not used[i]:\n",
    "            dfs(i)\n",
    "    G.node(str(v), str(v), style = 'filled', fillcolor='black', fontcolor = 'white')\n",
    "    G.render('dfs-example/' + str(step), view=False)\n",
    "    step += 1\n",
    "\n",
    "            \n",
    "n = int(input())\n",
    "m = int(input())\n",
    "for i in range(n):\n",
    "    g.append([])\n",
    "    G.node(str(i), str(i), style = 'filled', fillcolor='white')\n",
    "used = [0] * n\n",
    "for i in range(m):\n",
    "    fr, to = map(int, input().split())\n",
    "    g[fr].append(to)\n",
    "    G.edge(str(fr), str(to), dir='forward')\n",
    "    \n",
    "G.render('dfs-example/' + str(step), view=False)\n",
    "step += 1\n",
    "for i in range(n):\n",
    "    if not used[i]:\n",
    "        dfs(i) \n",
    "        \n",
    "fp_in = \"./dfs-example/*.png\"\n",
    "fp_out = \"./dfs-example/dfs.gif\"\n",
    "print(sorted(glob.glob(fp_in)))\n",
    "img, *imgs = [Image.open(f) for f in sorted(glob.glob(fp_in))]\n",
    "img.save(fp=fp_out, format='GIF', append_images=imgs,\n",
    "         save_all=True, duration=200, loop=0)"
   ]
  },
  {
   "cell_type": "code",
   "execution_count": null,
   "metadata": {},
   "outputs": [],
   "source": [
    "\n",
    "10\n",
    "9\n",
    "0 1\n",
    "1 2\n",
    "2 3\n",
    "3 4\n",
    "3 5\n",
    "5 6\n",
    "6 7\n",
    "6 8\n",
    "6 9"
   ]
  },
  {
   "cell_type": "code",
   "execution_count": null,
   "metadata": {},
   "outputs": [],
   "source": []
  }
 ],
 "metadata": {
  "kernelspec": {
   "display_name": "Python 3",
   "language": "python",
   "name": "python3"
  },
  "language_info": {
   "codemirror_mode": {
    "name": "ipython",
    "version": 3
   },
   "file_extension": ".py",
   "mimetype": "text/x-python",
   "name": "python",
   "nbconvert_exporter": "python",
   "pygments_lexer": "ipython3",
   "version": "3.9.1"
  }
 },
 "nbformat": 4,
 "nbformat_minor": 4
}
